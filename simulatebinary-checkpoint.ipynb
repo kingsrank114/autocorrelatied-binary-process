{
 "cells": [
  {
   "cell_type": "code",
   "execution_count": 4,
   "metadata": {},
   "outputs": [],
   "source": [
    "import numpy as np        #import numpy \n",
    "from numpy.random import binomial    #simplify typing, binomial(n, p, size)"
   ]
  },
  {
   "cell_type": "code",
   "execution_count": 36,
   "metadata": {},
   "outputs": [],
   "source": [
    "#Estimate Autocorrelation function up to lag d\n",
    "#y:process\n",
    "#sigma:standard deviation\n",
    "#d:lag\n",
    "\n",
    "def acf_method(y, sigma, d):\n",
    "    acf = np.zeros(d)\n",
    "    acf[0] = 1\n",
    "    l = len(y)\n",
    "\n",
    "    seq = np.arange(1,d,1)\n",
    "    for i in seq:\n",
    "        acf[i] = np.cov(y[i:l], y[0:(l-i)])[0,1] / (sigma**2)\n",
    "    return(acf)"
   ]
  },
  {
   "cell_type": "code",
   "execution_count": 42,
   "metadata": {},
   "outputs": [],
   "source": [
    "#Simulate first order autocorrelated binary process with \n",
    "#rho1:first order autocorrelation\n",
    "#mu: success probability\n",
    "#T: length of process\n",
    "\n",
    "def binary_first(rho1, mu, T):\n",
    "    y = np.zeros(T)\n",
    "    \n",
    "    y[0] = binomial(1, mu, 1)\n",
    "    \n",
    "    seq = np.arange(1,T,1)\n",
    "    for i in seq:\n",
    "        \n",
    "        A = 1 + rho1 * (y[i-1] - mu) / mu\n",
    "        \n",
    "        y[i] = binomial(1, mu*A, 1)\n",
    "    return(y)"
   ]
  },
  {
   "cell_type": "code",
   "execution_count": 49,
   "metadata": {},
   "outputs": [],
   "source": [
    "#Example: Simulate first-order autocorrelated binary process with mean 0.35, rho1 0.25 and length 10000\n",
    "rho1 = 0.25\n",
    "mu = 0.35\n",
    "T = 10000"
   ]
  },
  {
   "cell_type": "code",
   "execution_count": 50,
   "metadata": {},
   "outputs": [],
   "source": [
    "y1 = binary_first(rho1, mu, T)"
   ]
  },
  {
   "cell_type": "code",
   "execution_count": 51,
   "metadata": {},
   "outputs": [
    {
     "data": {
      "text/plain": [
       "0.3543"
      ]
     },
     "execution_count": 51,
     "metadata": {},
     "output_type": "execute_result"
    }
   ],
   "source": [
    "#Check the mean and standard deviation of the process with the nominal value\n",
    "y1.mean()            #nominal value mu = 0.35 success probability"
   ]
  },
  {
   "cell_type": "code",
   "execution_count": 52,
   "metadata": {},
   "outputs": [
    {
     "data": {
      "text/plain": [
       "0.47830064812835027"
      ]
     },
     "execution_count": 52,
     "metadata": {},
     "output_type": "execute_result"
    }
   ],
   "source": [
    "y1.std()             #nominal value sqrt(mu*(1-mu))=0.47697"
   ]
  },
  {
   "cell_type": "code",
   "execution_count": 55,
   "metadata": {},
   "outputs": [
    {
     "name": "stdout",
     "output_type": "stream",
     "text": [
      "[1.         0.25049383 0.06244712 0.03397447 0.01439783]\n"
     ]
    }
   ],
   "source": [
    "#Check the first-order autocorrelation of the process with the nominal value \n",
    "acf_value = acf_method(y1, y1.std(), 5)"
   ]
  },
  {
   "cell_type": "code",
   "execution_count": 56,
   "metadata": {},
   "outputs": [
    {
     "data": {
      "text/plain": [
       "0.25049382507929235"
      ]
     },
     "execution_count": 56,
     "metadata": {},
     "output_type": "execute_result"
    }
   ],
   "source": [
    "acf_value[1]          #nominal value is rho1 = 0.25"
   ]
  },
  {
   "cell_type": "code",
   "execution_count": null,
   "metadata": {},
   "outputs": [],
   "source": []
  }
 ],
 "metadata": {
  "kernelspec": {
   "display_name": "Python 3",
   "language": "python",
   "name": "python3"
  },
  "language_info": {
   "codemirror_mode": {
    "name": "ipython",
    "version": 3
   },
   "file_extension": ".py",
   "mimetype": "text/x-python",
   "name": "python",
   "nbconvert_exporter": "python",
   "pygments_lexer": "ipython3",
   "version": "3.7.6"
  }
 },
 "nbformat": 4,
 "nbformat_minor": 4
}
